{
  "nbformat": 4,
  "nbformat_minor": 0,
  "metadata": {
    "colab": {
      "provenance": [],
      "authorship_tag": "ABX9TyO+XKKm8NhzdbCUpHNoxWtS",
      "include_colab_link": true
    },
    "kernelspec": {
      "name": "python3",
      "display_name": "Python 3"
    },
    "language_info": {
      "name": "python"
    }
  },
  "cells": [
    {
      "cell_type": "markdown",
      "metadata": {
        "id": "view-in-github",
        "colab_type": "text"
      },
      "source": [
        "<a href=\"https://colab.research.google.com/github/Giulia-Mart/desafio-final/blob/main/Desafio.ipynb\" target=\"_parent\"><img src=\"https://colab.research.google.com/assets/colab-badge.svg\" alt=\"Open In Colab\"/></a>"
      ]
    },
    {
      "cell_type": "markdown",
      "source": [
        "### Desafio 1 - Você possui algumas variáveis em Python que descrevem alguns dos seus atributos. Com base nessas variáveis, gere uma apresentação curta de si mesmo:"
      ],
      "metadata": {
        "id": "oNYQt0bHHIG5"
      }
    },
    {
      "cell_type": "code",
      "execution_count": 2,
      "metadata": {
        "colab": {
          "base_uri": "https://localhost:8080/"
        },
        "id": "ZHv0Sw6nGuo5",
        "outputId": "2e70a0c8-e7b7-44dc-97d5-6e8ddbe38466"
      },
      "outputs": [
        {
          "output_type": "stream",
          "name": "stdout",
          "text": [
            "Olá meu nome é Giulia , tenho 19 anos e moro em SBC\n"
          ]
        }
      ],
      "source": [
        "nome = \"Giulia\"\n",
        "idade = 19\n",
        "cidade = \"SBC\"\n",
        "\n",
        "print(\"Olá meu nome é\", nome, \", tenho\", idade, \"anos e moro em\", cidade)"
      ]
    },
    {
      "cell_type": "markdown",
      "source": [
        "### Desafio 2 - Dada uma lista de números em Python, Calcule a média dos valores dessa lista:"
      ],
      "metadata": {
        "id": "cHNWzgM8Hi8_"
      }
    },
    {
      "cell_type": "code",
      "source": [
        "numeros = [10, 20, 30, 40, 50]\n",
        "\n",
        "media = sum(numeros) / 5\n",
        "print(media)"
      ],
      "metadata": {
        "colab": {
          "base_uri": "https://localhost:8080/"
        },
        "id": "__Z4YbHHHjYu",
        "outputId": "afefe902-a3ca-4338-a671-4d52dddfb1d0"
      },
      "execution_count": 4,
      "outputs": [
        {
          "output_type": "stream",
          "name": "stdout",
          "text": [
            "30.0\n"
          ]
        }
      ]
    },
    {
      "cell_type": "markdown",
      "source": [
        "### Desafio 3 - Você possui duas listas de Python. Cada lista representa os gastos do mês de dois amigos, João e Pedro. Cada valor na lista representa o gasto em uma das semanas do mês. Seu objetivo é encontrar quem gastou mais dinheiro ao longo do mês, João ou Pedro. Para isso, crie um código em Python que responda a essa pergunta."
      ],
      "metadata": {
        "id": "IdkpSu6OHjpW"
      }
    },
    {
      "cell_type": "code",
      "source": [
        "gastos_joao = [300, 500, 200, 800]\n",
        "gastos_pedro = [200, 400, 500, 700]\n",
        "\n",
        "total_joao = sum(gastos_joao)\n",
        "print(total_joao)\n",
        "total_pedro = sum(gastos_pedro)\n",
        "print(total_pedro)\n",
        "\n",
        "if(total_joao > total_pedro):\n",
        "  print(f\"O João gastou mais dinheiro do que Pedro.\")\n",
        "elif(total_pedro > total_joao):\n",
        "  print(f\"O Pedro gastou mais dinheiro do que João.\")\n",
        "else:\n",
        "  print(\"Os dois gastaram igual.\")\n",
        "\n"
      ],
      "metadata": {
        "colab": {
          "base_uri": "https://localhost:8080/"
        },
        "id": "hdpBpK2bHkDP",
        "outputId": "f07b8f16-1d2b-4363-999c-9ea3430f4b64"
      },
      "execution_count": 12,
      "outputs": [
        {
          "output_type": "stream",
          "name": "stdout",
          "text": [
            "1800\n",
            "1800\n",
            "Os dois gastaram igual.\n"
          ]
        }
      ]
    }
  ]
}